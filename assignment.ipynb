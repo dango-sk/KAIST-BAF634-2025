{
 "cells": [
  {
   "cell_type": "code",
   "execution_count": 1479,
   "id": "4fd68159",
   "metadata": {},
   "outputs": [],
   "source": [
    "import pandas as pd\n",
    "import numpy as np \n",
    "from qdl.facade import QDL \n",
    "q = QDL()"
   ]
  },
  {
   "cell_type": "code",
   "execution_count": 1480,
   "id": "c1d06e98",
   "metadata": {},
   "outputs": [],
   "source": [
    "import pandas as pd\n",
    "import numpy as np \n",
    "from qdl.facade import QDL \n",
    "q = QDL()\n",
    "\n",
    "selected_cols = ['date', 'id', 'size_grp', 'me', 'be_me', 'gp_at', 'at_gr1', 'ret_12_1', 'ret_1_0', 'ret_exc_lead1m']\n",
    "chars_df = q.load_char_dataset(\n",
    "    country=\"usa\",\n",
    "    vintage=\"2020-\",\n",
    "    columns= selected_cols ,\n",
    "    strict=False\n",
    ")"
   ]
  },
  {
   "cell_type": "code",
   "execution_count": 1481,
   "id": "d31dba20",
   "metadata": {},
   "outputs": [
    {
     "name": "stdout",
     "output_type": "stream",
     "text": [
      "(311015, 10)\n",
      "date              datetime64[ns]\n",
      "id                       float64\n",
      "size_grp                  object\n",
      "me                       float64\n",
      "be_me                    float64\n",
      "gp_at                    float64\n",
      "at_gr1                   float64\n",
      "ret_12_1                 float64\n",
      "ret_1_0                  float64\n",
      "ret_exc_lead1m           float64\n",
      "year_month        datetime64[ns]\n",
      "dtype: object\n",
      "62\n"
     ]
    },
    {
     "data": {
      "text/html": [
       "<div>\n",
       "<style scoped>\n",
       "    .dataframe tbody tr th:only-of-type {\n",
       "        vertical-align: middle;\n",
       "    }\n",
       "\n",
       "    .dataframe tbody tr th {\n",
       "        vertical-align: top;\n",
       "    }\n",
       "\n",
       "    .dataframe thead th {\n",
       "        text-align: right;\n",
       "    }\n",
       "</style>\n",
       "<table border=\"1\" class=\"dataframe\">\n",
       "  <thead>\n",
       "    <tr style=\"text-align: right;\">\n",
       "      <th></th>\n",
       "      <th>date</th>\n",
       "      <th>id</th>\n",
       "      <th>size_grp</th>\n",
       "      <th>me</th>\n",
       "      <th>be_me</th>\n",
       "      <th>gp_at</th>\n",
       "      <th>at_gr1</th>\n",
       "      <th>ret_12_1</th>\n",
       "      <th>ret_1_0</th>\n",
       "      <th>ret_exc_lead1m</th>\n",
       "      <th>year_month</th>\n",
       "    </tr>\n",
       "  </thead>\n",
       "  <tbody>\n",
       "    <tr>\n",
       "      <th>0</th>\n",
       "      <td>2021-04-30</td>\n",
       "      <td>20964.0</td>\n",
       "      <td>micro</td>\n",
       "      <td>371.249986</td>\n",
       "      <td>NaN</td>\n",
       "      <td>NaN</td>\n",
       "      <td>NaN</td>\n",
       "      <td>NaN</td>\n",
       "      <td>NaN</td>\n",
       "      <td>-0.010106</td>\n",
       "      <td>2021-04-30</td>\n",
       "    </tr>\n",
       "    <tr>\n",
       "      <th>1</th>\n",
       "      <td>2021-05-28</td>\n",
       "      <td>20964.0</td>\n",
       "      <td>micro</td>\n",
       "      <td>338.100007</td>\n",
       "      <td>NaN</td>\n",
       "      <td>NaN</td>\n",
       "      <td>NaN</td>\n",
       "      <td>NaN</td>\n",
       "      <td>-0.010101</td>\n",
       "      <td>-0.005106</td>\n",
       "      <td>2021-05-31</td>\n",
       "    </tr>\n",
       "    <tr>\n",
       "      <th>2</th>\n",
       "      <td>2021-06-30</td>\n",
       "      <td>20964.0</td>\n",
       "      <td>micro</td>\n",
       "      <td>336.375000</td>\n",
       "      <td>NaN</td>\n",
       "      <td>NaN</td>\n",
       "      <td>NaN</td>\n",
       "      <td>NaN</td>\n",
       "      <td>-0.005102</td>\n",
       "      <td>0.003046</td>\n",
       "      <td>2021-06-30</td>\n",
       "    </tr>\n",
       "    <tr>\n",
       "      <th>3</th>\n",
       "      <td>2021-07-30</td>\n",
       "      <td>20964.0</td>\n",
       "      <td>micro</td>\n",
       "      <td>337.409991</td>\n",
       "      <td>NaN</td>\n",
       "      <td>NaN</td>\n",
       "      <td>NaN</td>\n",
       "      <td>NaN</td>\n",
       "      <td>0.003077</td>\n",
       "      <td>-0.003116</td>\n",
       "      <td>2021-07-31</td>\n",
       "    </tr>\n",
       "    <tr>\n",
       "      <th>4</th>\n",
       "      <td>2021-08-31</td>\n",
       "      <td>20964.0</td>\n",
       "      <td>micro</td>\n",
       "      <td>336.375000</td>\n",
       "      <td>NaN</td>\n",
       "      <td>NaN</td>\n",
       "      <td>NaN</td>\n",
       "      <td>NaN</td>\n",
       "      <td>-0.003067</td>\n",
       "      <td>-0.000033</td>\n",
       "      <td>2021-08-31</td>\n",
       "    </tr>\n",
       "  </tbody>\n",
       "</table>\n",
       "</div>"
      ],
      "text/plain": [
       "        date       id size_grp          me  be_me  gp_at  at_gr1  ret_12_1  \\\n",
       "0 2021-04-30  20964.0    micro  371.249986    NaN    NaN     NaN       NaN   \n",
       "1 2021-05-28  20964.0    micro  338.100007    NaN    NaN     NaN       NaN   \n",
       "2 2021-06-30  20964.0    micro  336.375000    NaN    NaN     NaN       NaN   \n",
       "3 2021-07-30  20964.0    micro  337.409991    NaN    NaN     NaN       NaN   \n",
       "4 2021-08-31  20964.0    micro  336.375000    NaN    NaN     NaN       NaN   \n",
       "\n",
       "    ret_1_0  ret_exc_lead1m year_month  \n",
       "0       NaN       -0.010106 2021-04-30  \n",
       "1 -0.010101       -0.005106 2021-05-31  \n",
       "2 -0.005102        0.003046 2021-06-30  \n",
       "3  0.003077       -0.003116 2021-07-31  \n",
       "4 -0.003067       -0.000033 2021-08-31  "
      ]
     },
     "execution_count": 1481,
     "metadata": {},
     "output_type": "execute_result"
    }
   ],
   "source": [
    "# dtypes \n",
    "print(chars_df.shape)\n",
    "chars_df.head()\n",
    "chars_df['date'] = pd.to_datetime(chars_df['date'], format = '%Y%m')\n",
    "chars_df['year_month'] = (chars_df['date'].dt.to_period('M').dt.to_timestamp('M'))  \n",
    "print(chars_df.dtypes)\n",
    "print(chars_df['year_month'].nunique())\n",
    "chars_df.head()"
   ]
  },
  {
   "cell_type": "code",
   "execution_count": 1482,
   "id": "154d7e36",
   "metadata": {},
   "outputs": [
    {
     "data": {
      "text/html": [
       "<div>\n",
       "<style scoped>\n",
       "    .dataframe tbody tr th:only-of-type {\n",
       "        vertical-align: middle;\n",
       "    }\n",
       "\n",
       "    .dataframe tbody tr th {\n",
       "        vertical-align: top;\n",
       "    }\n",
       "\n",
       "    .dataframe thead th {\n",
       "        text-align: right;\n",
       "    }\n",
       "</style>\n",
       "<table border=\"1\" class=\"dataframe\">\n",
       "  <thead>\n",
       "    <tr style=\"text-align: right;\">\n",
       "      <th></th>\n",
       "      <th>year_month</th>\n",
       "      <th>id</th>\n",
       "      <th>cnt</th>\n",
       "    </tr>\n",
       "  </thead>\n",
       "  <tbody>\n",
       "    <tr>\n",
       "      <th>0</th>\n",
       "      <td>2020-01-31</td>\n",
       "      <td>10026.0</td>\n",
       "      <td>1</td>\n",
       "    </tr>\n",
       "    <tr>\n",
       "      <th>1</th>\n",
       "      <td>2020-01-31</td>\n",
       "      <td>10028.0</td>\n",
       "      <td>1</td>\n",
       "    </tr>\n",
       "    <tr>\n",
       "      <th>2</th>\n",
       "      <td>2020-01-31</td>\n",
       "      <td>10032.0</td>\n",
       "      <td>1</td>\n",
       "    </tr>\n",
       "    <tr>\n",
       "      <th>3</th>\n",
       "      <td>2020-01-31</td>\n",
       "      <td>10044.0</td>\n",
       "      <td>1</td>\n",
       "    </tr>\n",
       "    <tr>\n",
       "      <th>4</th>\n",
       "      <td>2020-01-31</td>\n",
       "      <td>10051.0</td>\n",
       "      <td>1</td>\n",
       "    </tr>\n",
       "  </tbody>\n",
       "</table>\n",
       "</div>"
      ],
      "text/plain": [
       "  year_month       id  cnt\n",
       "0 2020-01-31  10026.0    1\n",
       "1 2020-01-31  10028.0    1\n",
       "2 2020-01-31  10032.0    1\n",
       "3 2020-01-31  10044.0    1\n",
       "4 2020-01-31  10051.0    1"
      ]
     },
     "execution_count": 1482,
     "metadata": {},
     "output_type": "execute_result"
    }
   ],
   "source": [
    "chars_df.head()\n",
    "chars_df.groupby(['id','year_month']).size().reset_index(name='cnt').sort_values(by='cnt', ascending=False).head(5)\n",
    "chars_df.groupby(['year_month', 'id']).size().reset_index(name='cnt').sort_values(by='cnt', ascending=False).head(5)"
   ]
  },
  {
   "cell_type": "code",
   "execution_count": 1483,
   "id": "03302239",
   "metadata": {},
   "outputs": [
    {
     "data": {
      "text/plain": [
       "date                  0\n",
       "id                    0\n",
       "size_grp            319\n",
       "me                  319\n",
       "be_me             48444\n",
       "gp_at             27749\n",
       "at_gr1            33182\n",
       "ret_12_1          37457\n",
       "ret_1_0           12504\n",
       "ret_exc_lead1m    19984\n",
       "year_month            0\n",
       "dtype: int64"
      ]
     },
     "execution_count": 1483,
     "metadata": {},
     "output_type": "execute_result"
    }
   ],
   "source": [
    "chars_df.isnull().sum() #id == permno "
   ]
  },
  {
   "cell_type": "code",
   "execution_count": 1484,
   "id": "f9c3f3db",
   "metadata": {},
   "outputs": [
    {
     "name": "stdout",
     "output_type": "stream",
     "text": [
      "(311015, 11)\n",
      "(310696, 11)\n",
      "62\n"
     ]
    }
   ],
   "source": [
    "print(chars_df.shape)\n",
    "chars_df = chars_df[~chars_df['size_grp'].isnull() ==True] \n",
    "print(chars_df.shape)\n",
    "print(chars_df['year_month'].nunique())"
   ]
  },
  {
   "cell_type": "code",
   "execution_count": 1485,
   "id": "183440de",
   "metadata": {},
   "outputs": [
    {
     "data": {
      "text/plain": [
       "size_grp\n",
       "large    60\n",
       "mega     62\n",
       "micro    60\n",
       "nano     60\n",
       "small    60\n",
       "Name: year_month, dtype: int64"
      ]
     },
     "execution_count": 1485,
     "metadata": {},
     "output_type": "execute_result"
    }
   ],
   "source": [
    "chars_df.groupby('size_grp')['year_month'].nunique()"
   ]
  },
  {
   "cell_type": "code",
   "execution_count": 1486,
   "id": "daaf46d0",
   "metadata": {},
   "outputs": [
    {
     "name": "stdout",
     "output_type": "stream",
     "text": [
      "62\n",
      "(62, 2)\n",
      "62\n"
     ]
    },
    {
     "name": "stderr",
     "output_type": "stream",
     "text": [
      "C:\\Users\\User\\AppData\\Local\\Temp\\ipykernel_13708\\578179839.py:6: SettingWithCopyWarning: \n",
      "A value is trying to be set on a copy of a slice from a DataFrame.\n",
      "Try using .loc[row_indexer,col_indexer] = value instead\n",
      "\n",
      "See the caveats in the documentation: https://pandas.pydata.org/pandas-docs/stable/user_guide/indexing.html#returning-a-view-versus-a-copy\n",
      "  chars_no_micro['me_ret'] = chars_no_micro['me'] * chars_no_micro['ret_exc_lead1m']\n"
     ]
    }
   ],
   "source": [
    "# period table \n",
    "df_period  = pd.DataFrame(chars_df['year_month'].unique(), columns=['year_month']).sort_values(by='year_month')\n",
    "print(chars_df['year_month'].nunique())\n",
    "\n",
    "chars_no_micro = chars_df[~chars_df['size_grp'].isin(['nano', 'micro'])] #nano, micro 제외 \n",
    "chars_no_micro['me_ret'] = chars_no_micro['me'] * chars_no_micro['ret_exc_lead1m']  \n",
    "#vw cap  \n",
    "me_cap_df = chars_no_micro.groupby(['year_month'])['me'].quantile(0.80).reset_index(name='me_capped')\n",
    "print(me_cap_df.shape)\n",
    " #vw_cap computation   \n",
    "chars_no_micro=me_cap_df.merge(chars_no_micro, on='year_month' , how='left')\n",
    "\n",
    "chars_no_micro['cap_me'] = np.minimum(chars_no_micro['me_capped'], chars_no_micro['me'])\n",
    "chars_no_micro['cap_me_ret'] = chars_no_micro['cap_me'] * chars_no_micro['ret_exc_lead1m']\n",
    "\n",
    "chars_no_micro.head(3)\n",
    "print(chars_no_micro['year_month'].nunique())"
   ]
  },
  {
   "cell_type": "code",
   "execution_count": 1487,
   "id": "4f781e0d",
   "metadata": {},
   "outputs": [
    {
     "name": "stdout",
     "output_type": "stream",
     "text": [
      "(62, 13)\n"
     ]
    }
   ],
   "source": [
    "df_big = chars_no_micro[chars_no_micro['size_grp'].isin(['large', 'mega'])].groupby('year_month').agg(\n",
    "    mean = ('ret_exc_lead1m', 'mean'),\n",
    "    me_sum_big = ('me', 'sum'),\n",
    "    me_ret_sum_big = ('me_ret', 'sum'),\n",
    "    me_cap_sum_big = ('cap_me', 'sum'),\n",
    "    me_cap_ret_sum_big = ('cap_me_ret', 'sum'),\n",
    "    n_big = ('id', 'nunique')\n",
    ").rename(columns={'mean':'mean_big'}).reset_index()\n",
    "\n",
    "df_small = chars_no_micro[~chars_no_micro['size_grp'].isin(['large', 'mega'])].groupby('year_month').agg(\n",
    "    mean = ('ret_exc_lead1m', 'mean'),\n",
    "    me_sum_small = ('me', 'sum'),\n",
    "    me_ret_sum_small = ('me_ret', 'sum'),\n",
    "    me_cap_sum_small = ('cap_me', 'sum'),\n",
    "    me_cap_ret_sum_small = ('cap_me_ret', 'sum'),\n",
    "    n_small = ('id', 'nunique')\n",
    ").rename(columns={'mean':'mean_small'}).reset_index()\n",
    "\n",
    "\n",
    "df = df_period.merge(df_big, on='year_month' , how='left')\n",
    "df = df.merge(df_small, on='year_month' , how='left')\n",
    "print(df.shape)\n",
    "\n",
    "df['smb_ew'] = df['mean_big'] - df['mean_small']\n",
    "df['smb_vw'] = df['me_ret_sum_big']/df['me_sum_big'] - df['me_ret_sum_small']/df['me_sum_small'] \n",
    "df['smb_capped_vw'] = df['me_cap_ret_sum_big']/df['me_cap_sum_big'] - df['me_cap_ret_sum_small']/df['me_cap_sum_small'] \n",
    "\n",
    "query = (df['n_big'] >= 5 ) & (df['n_small'] >= 5)\n",
    "df.loc[~query , ['smb_ew', 'smb_vw', 'smb_capped_vw']] = np.nan\n"
   ]
  },
  {
   "cell_type": "code",
   "execution_count": 1488,
   "id": "39e21cea",
   "metadata": {},
   "outputs": [],
   "source": [
    "df_smb = df.loc[:,['year_month','smb_ew', 'smb_vw', 'smb_capped_vw', 'n_big', 'n_small']]"
   ]
  },
  {
   "cell_type": "code",
   "execution_count": 1489,
   "id": "cf65f011",
   "metadata": {},
   "outputs": [
    {
     "name": "stdout",
     "output_type": "stream",
     "text": [
      "62\n",
      "(62, 13)\n"
     ]
    }
   ],
   "source": [
    "# other factors\n",
    "columns_list = ['at_gr1'] # test 용 \n",
    "factor_name = ['hml', 'rmw', 'cma', 'mom', 'str']\n",
    "\n",
    "all_results = []\n",
    "for c in columns_list: \n",
    "    cut_off_df = chars_no_micro.groupby('year_month')[c].quantile([0.333, 0.666]).unstack().rename(columns={0.333:f'{c}_low', 0.666:f'{c}_high'}).reset_index().sort_values(by='year_month')\n",
    "    cut_off_df = chars_df.merge(cut_off_df , on = 'year_month', how='left')\n",
    "    print(chars_df['year_month'].nunique())\n",
    "    cut_off_df['cut_off'] = np.where(cut_off_df[c] < cut_off_df[f'{c}_low'], 'low', np.where(cut_off_df[c] > cut_off_df[f'{c}_high'], 'high', 'middle'))\n",
    "    cut_off_df['me_ret'] = cut_off_df['me'] * cut_off_df['ret_exc_lead1m']\n",
    "    cut_off_df = cut_off_df.merge(cut_off_df.groupby(['year_month'])['me'].quantile(0.8).reset_index(name= 'me_capped')\n",
    "                 , on = 'year_month', how='left')\n",
    "    cut_off_df['cap_me'] = np.minimum(cut_off_df['me_capped'], cut_off_df['me'])\n",
    "    cut_off_df['cap_me_ret'] = cut_off_df['cap_me'] * cut_off_df['ret_exc_lead1m']\n",
    "\n",
    "    query = (cut_off_df['cut_off'].isin(['high'])) & (cut_off_df['size_grp'].isin(['large', 'mega']))\n",
    "\n",
    "    df_big = cut_off_df.loc[query, ].groupby('year_month').agg(\n",
    "        mean = ('ret_exc_lead1m', 'mean'),\n",
    "        me_sum_big = ('me', 'sum'),\n",
    "        me_ret_sum_big = ('me_ret', 'sum'),\n",
    "        me_cap_sum_big = ('cap_me', 'sum'),\n",
    "        me_cap_ret_sum_big = ('cap_me_ret', 'sum'),\n",
    "        n_big = ('id', 'nunique')\n",
    "    ).rename(columns={'mean':'mean_big'}).reset_index()\n",
    "\n",
    "    query = (cut_off_df['cut_off'].isin(['low'])) & (cut_off_df['size_grp'].isin(['large', 'mega']))\n",
    "\n",
    "    df_small = cut_off_df.loc[query, ].groupby('year_month').agg(\n",
    "        mean = ('ret_exc_lead1m', 'mean'),\n",
    "        me_sum_small = ('me', 'sum'),\n",
    "        me_ret_sum_small = ('me_ret', 'sum'),\n",
    "        me_cap_sum_small = ('cap_me', 'sum'),\n",
    "        me_cap_ret_sum_small = ('cap_me_ret', 'sum'),\n",
    "        n_small = ('id', 'nunique')\n",
    "    ).rename(columns={'mean':'mean_small'}).reset_index()\n",
    "\n",
    "    df = df_period.merge(df_big, on='year_month' , how='left')\n",
    "    df = df.merge(df_small, on='year_month' , how='left')\n",
    "    print(df.shape)\n",
    "\n",
    "    df['ret_ew'] =  -1*(df['mean_big'] - df['mean_small'])\n",
    "    df['ret_vw'] = -1*(df['me_ret_sum_big']/df['me_sum_big'] - df['me_ret_sum_small']/df['me_sum_small'] )\n",
    "    df['ret_capped_vw'] = -1*(df['me_cap_ret_sum_big']/df['me_cap_sum_big'] - df['me_cap_ret_sum_small']/df['me_cap_sum_small'] )\n",
    "\n",
    "    query =  (df['n_big'] >= 5) & (df['n_small'] >= 5)\n",
    "\n",
    "    df = df.loc[query , ] \n",
    "    results = df.loc[:,['year_month','ret_ew', 'ret_vw', 'ret_capped_vw', 'n_big', 'n_small']]\n",
    "    results['name'] = c\n",
    "    all_results.append(results)\n",
    "\n",
    "final_results = pd.concat(all_results, ignore_index=True)"
   ]
  },
  {
   "cell_type": "code",
   "execution_count": 1490,
   "id": "d55b3303",
   "metadata": {},
   "outputs": [
    {
     "data": {
      "text/html": [
       "<div>\n",
       "<style scoped>\n",
       "    .dataframe tbody tr th:only-of-type {\n",
       "        vertical-align: middle;\n",
       "    }\n",
       "\n",
       "    .dataframe tbody tr th {\n",
       "        vertical-align: top;\n",
       "    }\n",
       "\n",
       "    .dataframe thead th {\n",
       "        text-align: right;\n",
       "    }\n",
       "</style>\n",
       "<table border=\"1\" class=\"dataframe\">\n",
       "  <thead>\n",
       "    <tr style=\"text-align: right;\">\n",
       "      <th></th>\n",
       "      <th>date</th>\n",
       "      <th>ret_ew</th>\n",
       "      <th>ret_vw</th>\n",
       "      <th>ret_capped_vw</th>\n",
       "      <th>n_big</th>\n",
       "      <th>n_small</th>\n",
       "      <th>name</th>\n",
       "    </tr>\n",
       "  </thead>\n",
       "  <tbody>\n",
       "    <tr>\n",
       "      <th>0</th>\n",
       "      <td>2020-01-31</td>\n",
       "      <td>-0.011165</td>\n",
       "      <td>-0.022365</td>\n",
       "      <td>-0.012627</td>\n",
       "      <td>358</td>\n",
       "      <td>361</td>\n",
       "      <td>at_gr1</td>\n",
       "    </tr>\n",
       "    <tr>\n",
       "      <th>1</th>\n",
       "      <td>2020-02-29</td>\n",
       "      <td>-0.000617</td>\n",
       "      <td>-0.008170</td>\n",
       "      <td>-0.001205</td>\n",
       "      <td>363</td>\n",
       "      <td>366</td>\n",
       "      <td>at_gr1</td>\n",
       "    </tr>\n",
       "    <tr>\n",
       "      <th>2</th>\n",
       "      <td>2020-03-31</td>\n",
       "      <td>-0.021059</td>\n",
       "      <td>-0.028929</td>\n",
       "      <td>-0.022893</td>\n",
       "      <td>394</td>\n",
       "      <td>373</td>\n",
       "      <td>at_gr1</td>\n",
       "    </tr>\n",
       "    <tr>\n",
       "      <th>3</th>\n",
       "      <td>2020-04-30</td>\n",
       "      <td>-0.055908</td>\n",
       "      <td>-0.032706</td>\n",
       "      <td>-0.057200</td>\n",
       "      <td>379</td>\n",
       "      <td>368</td>\n",
       "      <td>at_gr1</td>\n",
       "    </tr>\n",
       "    <tr>\n",
       "      <th>4</th>\n",
       "      <td>2020-05-31</td>\n",
       "      <td>-0.019613</td>\n",
       "      <td>-0.019643</td>\n",
       "      <td>-0.021084</td>\n",
       "      <td>390</td>\n",
       "      <td>368</td>\n",
       "      <td>at_gr1</td>\n",
       "    </tr>\n",
       "  </tbody>\n",
       "</table>\n",
       "</div>"
      ],
      "text/plain": [
       "        date    ret_ew    ret_vw  ret_capped_vw  n_big  n_small    name\n",
       "0 2020-01-31 -0.011165 -0.022365      -0.012627    358      361  at_gr1\n",
       "1 2020-02-29 -0.000617 -0.008170      -0.001205    363      366  at_gr1\n",
       "2 2020-03-31 -0.021059 -0.028929      -0.022893    394      373  at_gr1\n",
       "3 2020-04-30 -0.055908 -0.032706      -0.057200    379      368  at_gr1\n",
       "4 2020-05-31 -0.019613 -0.019643      -0.021084    390      368  at_gr1"
      ]
     },
     "execution_count": 1490,
     "metadata": {},
     "output_type": "execute_result"
    }
   ],
   "source": [
    "final_results= final_results[final_results['name'] == 'at_gr1'].dropna(subset=\"ret_ew\").rename(columns={'year_month':'date'})\n",
    "final_results.head()"
   ]
  },
  {
   "cell_type": "code",
   "execution_count": 1491,
   "id": "0cff2389",
   "metadata": {},
   "outputs": [],
   "source": [
    "final_results = final_results.set_index('date')"
   ]
  },
  {
   "cell_type": "code",
   "execution_count": 1492,
   "id": "a0715aff",
   "metadata": {},
   "outputs": [
    {
     "data": {
      "text/plain": [
       "<Axes: xlabel='date'>"
      ]
     },
     "execution_count": 1492,
     "metadata": {},
     "output_type": "execute_result"
    },
    {
     "data": {
      "image/png": "[encoded data removed]",
      "text/plain": [
       "<Figure size 640x480 with 1 Axes>"
      ]
     },
     "metadata": {},
     "output_type": "display_data"
    }
   ],
   "source": [
    "final_results['ret_ew'].cumsum().plot()"
   ]
  },
  {
   "cell_type": "code",
   "execution_count": 1493,
   "id": "b9e1973e",
   "metadata": {},
   "outputs": [
    {
     "data": {
      "text/html": [
       "<div>\n",
       "<style scoped>\n",
       "    .dataframe tbody tr th:only-of-type {\n",
       "        vertical-align: middle;\n",
       "    }\n",
       "\n",
       "    .dataframe tbody tr th {\n",
       "        vertical-align: top;\n",
       "    }\n",
       "\n",
       "    .dataframe thead th {\n",
       "        text-align: right;\n",
       "    }\n",
       "</style>\n",
       "<table border=\"1\" class=\"dataframe\">\n",
       "  <thead>\n",
       "    <tr style=\"text-align: right;\">\n",
       "      <th></th>\n",
       "      <th>at_gr1</th>\n",
       "    </tr>\n",
       "    <tr>\n",
       "      <th>date</th>\n",
       "      <th></th>\n",
       "    </tr>\n",
       "  </thead>\n",
       "  <tbody>\n",
       "    <tr>\n",
       "      <th>2020-01-31</th>\n",
       "      <td>-0.011165</td>\n",
       "    </tr>\n",
       "    <tr>\n",
       "      <th>2020-02-29</th>\n",
       "      <td>-0.000617</td>\n",
       "    </tr>\n",
       "    <tr>\n",
       "      <th>2020-03-31</th>\n",
       "      <td>-0.021059</td>\n",
       "    </tr>\n",
       "    <tr>\n",
       "      <th>2020-04-30</th>\n",
       "      <td>-0.055908</td>\n",
       "    </tr>\n",
       "    <tr>\n",
       "      <th>2020-05-31</th>\n",
       "      <td>-0.019613</td>\n",
       "    </tr>\n",
       "  </tbody>\n",
       "</table>\n",
       "</div>"
      ],
      "text/plain": [
       "              at_gr1\n",
       "date                \n",
       "2020-01-31 -0.011165\n",
       "2020-02-29 -0.000617\n",
       "2020-03-31 -0.021059\n",
       "2020-04-30 -0.055908\n",
       "2020-05-31 -0.019613"
      ]
     },
     "execution_count": 1493,
     "metadata": {},
     "output_type": "execute_result"
    }
   ],
   "source": [
    "final_results = final_results.loc[:, ['ret_ew']].rename(columns={'ret_ew' : 'at_gr1'})\n",
    "final_results.head()"
   ]
  },
  {
   "cell_type": "code",
   "execution_count": 1494,
   "id": "f93cbe39",
   "metadata": {},
   "outputs": [
    {
     "data": {
      "text/plain": [
       "(59, 1)"
      ]
     },
     "execution_count": 1494,
     "metadata": {},
     "output_type": "execute_result"
    }
   ],
   "source": [
    "final_results.loc[final_results['at_gr1'].isna() != True].shape"
   ]
  },
  {
   "cell_type": "code",
   "execution_count": 1495,
   "id": "017c8f56",
   "metadata": {},
   "outputs": [],
   "source": [
    "investment_factor_answer =q.load_factors(\n",
    "    country=\"usa\",\n",
    "    dataset='factor',\n",
    "    weighting='ew',\n",
    "    factors=[\"at_gr1\"],\n",
    ")"
   ]
  },
  {
   "cell_type": "code",
   "execution_count": 1496,
   "id": "83875c09",
   "metadata": {},
   "outputs": [
    {
     "data": {
      "image/png": "[encoded data removed]",
      "text/plain": [
       "<Figure size 500x320 with 1 Axes>"
      ]
     },
     "metadata": {},
     "output_type": "display_data"
    }
   ],
   "source": [
    "from qdl import  validator \n",
    "\n",
    "report = validator.validate_factor(\n",
    "    user=final_results,\n",
    "    reference=investment_factor_answer,\n",
    "    return_plot=True,\n",
    "    plot_title=\"Investment Factor: user vs reference\",\n",
    ")"
   ]
  },
  {
   "cell_type": "code",
   "execution_count": 1497,
   "id": "bb4dcfd8",
   "metadata": {},
   "outputs": [
    {
     "name": "stdout",
     "output_type": "stream",
     "text": [
      "\n",
      "검증 리포트:\n",
      "관측치수: 59 시작일: 2020-01-31 00:00:00 종료일: 2024-11-30 00:00:00\n",
      "mse: 0.001 rmse: 0.036 mae: 0.029 corr: 0.233\n"
     ]
    }
   ],
   "source": [
    "print(\"\\n검증 리포트:\")\n",
    "print(\"관측치수:\", report.n_obs, \"시작일:\", report.date_start, \"종료일:\", report.date_end)\n",
    "\n",
    "def _fmt(x):\n",
    "    return f\"{x:.3f}\" if x is not None else \"nan\"\n",
    "\n",
    "print(\n",
    "    \"mse:\", _fmt(report.mse),\n",
    "    \"rmse:\", _fmt(report.rmse),\n",
    "    \"mae:\", _fmt(report.mae),\n",
    "    \"corr:\", _fmt(report.corr),\n",
    ")\n",
    "\n",
    "# mse: 0.000 rmse: 0.009 mae: 0.007 corr: 0.979"
   ]
  },
  {
   "cell_type": "code",
   "execution_count": null,
   "id": "c89dc787",
   "metadata": {},
   "outputs": [],
   "source": []
  }
 ],
 "metadata": {
  "kernelspec": {
   "display_name": "Python 3",
   "language": "python",
   "name": "python3"
  },
  "language_info": {
   "codemirror_mode": {
    "name": "ipython",
    "version": 3
   },
   "file_extension": ".py",
   "mimetype": "text/x-python",
   "name": "python",
   "nbconvert_exporter": "python",
   "pygments_lexer": "ipython3",
   "version": "3.13.7"
  }
 },
 "nbformat": 4,
 "nbformat_minor": 5
}

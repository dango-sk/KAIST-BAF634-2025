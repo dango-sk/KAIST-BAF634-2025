{
 "cells": [
  {
   "cell_type": "code",
   "execution_count": 1,
   "id": "d8f8758c",
   "metadata": {},
   "outputs": [],
   "source": [
    "import gdown \n",
    "import pandas as pd \n",
    "import pyarrow "
   ]
  },
  {
   "cell_type": "code",
   "execution_count": null,
   "id": "f8e5489b",
   "metadata": {},
   "outputs": [
    {
     "name": "stderr",
     "output_type": "stream",
     "text": [
      "Retrieving folder contents\n"
     ]
    },
    {
     "name": "stdout",
     "output_type": "stream",
     "text": [
      "Processing file 1UvEnk7Ym-9UwgDPiDyShO5s7ov3MrQSQ jkp_1972-_kor.parquet\n",
      "Processing file 1jc6wazheYqJZjcZ-TqkxFfqysjD5pnRv jkp_1972-_usa.parquet\n",
      "Processing file 14dtNfQOnfD_FSJXKN7OUMChTtK_m3Cpa jkp_2000-_kor.parquet\n",
      "Processing file 1hPsU3uTDaRJy73cXOBxx87VdSOuqOsRz jkp_2000-_usa.parquet\n",
      "Processing file 1LL4gzb4E7Srcq1sVwTykUrYkn0DZaHfX jkp_2020-_kor.parquet\n",
      "Processing file 19L_SApQk7bwd0jmldefzExGd3tOBLmy- jkp_2020-_usa.parquet\n"
     ]
    },
    {
     "name": "stderr",
     "output_type": "stream",
     "text": [
      "Retrieving folder contents completed\n",
      "Building directory structure\n",
      "Building directory structure completed\n",
      "Downloading...\n",
      "From (original): https://drive.google.com/uc?id=1UvEnk7Ym-9UwgDPiDyShO5s7ov3MrQSQ\n",
      "From (redirected): https://drive.google.com/uc?id=1UvEnk7Ym-9UwgDPiDyShO5s7ov3MrQSQ&confirm=t&uuid=e7433312-0e71-4417-b632-4a9fa5e8649e\n",
      "To: c:\\Users\\User\\.vscode\\KAIST-BAF634-2025\\data\\chars\\jkp_1972-_kor.parquet\n",
      "100%|██████████| 534M/534M [00:58<00:00, 9.06MB/s] \n",
      "Downloading...\n",
      "From (original): https://drive.google.com/uc?id=1jc6wazheYqJZjcZ-TqkxFfqysjD5pnRv\n",
      "From (redirected): https://drive.google.com/uc?id=1jc6wazheYqJZjcZ-TqkxFfqysjD5pnRv&confirm=t&uuid=8fd65fb5-a626-471e-98e2-afe21078b502\n",
      "To: c:\\Users\\User\\.vscode\\KAIST-BAF634-2025\\data\\chars\\jkp_1972-_usa.parquet\n",
      " 45%|████▌     | 1.82G/4.02G [03:29<03:22, 10.9MB/s]"
     ]
    }
   ],
   "source": [
    "\n",
    "url = \"https://drive.google.com/drive/folders/13Uq3nNt3j9QtwnrB284qy1ZXcddPKL0a\"\n",
    "gdown.download_folder(url, output=\"data/chars\", quiet=False, use_cookies=False)"
   ]
  },
  {
   "cell_type": "code",
   "execution_count": 2,
   "id": "9ea11256",
   "metadata": {},
   "outputs": [
    {
     "name": "stderr",
     "output_type": "stream",
     "text": [
      "Retrieving folder contents\n"
     ]
    },
    {
     "name": "stdout",
     "output_type": "stream",
     "text": [
      "Processing file 1t4oWsO3_h6x7IYERGVKTpaXqQUqUdb2N [kor]_[all_factors]_[monthly]_[ew].csv\n",
      "Processing file 1WCa8kgR1FSrCwRjM-yZLX7lpAdvtt7Yf [kor]_[all_factors]_[monthly]_[vw_cap].csv\n",
      "Processing file 1cRXRR-kyOPTcfaQ8HSp1UoJTbUHpQqcz [kor]_[all_factors]_[monthly]_[vw].csv\n",
      "Processing file 15DCXnY6iPvYubYD0g60FdcNBiujgHGfa [kor]_[all_themes]_[monthly]_[ew].csv\n",
      "Processing file 1qfxiZdGI_Id1cAFfgJwK9FdLXhVOkaE0 [kor]_[all_themes]_[monthly]_[vw_cap].csv\n",
      "Processing file 1Locmf_vNfzGF7Dno-knW0fzyStLgDOY4 [kor]_[all_themes]_[monthly]_[vw].csv\n",
      "Processing file 1Dk0bP6PvWDnidNhZMj8yNj1EgWZqXI7B [kor]_[mkt]_[monthly]_[ew].csv\n",
      "Processing file 1tZQnVw1cmIN6KzhhvECmH3jSGWvShoSS [kor]_[mkt]_[monthly]_[vw_cap].csv\n",
      "Processing file 1zWqRa3n-OwH6x8tHQMmOYQoLWJyQKEyP [kor]_[mkt]_[monthly]_[vw].csv\n",
      "Processing file 13h6k-NqXMCETEbbEGmXNqu34aWv3-Z4M [usa]_[all_factors]_[monthly]_[ew].csv\n",
      "Processing file 15RgjKsi-qswHvAj90fin-H2Ox4HJLIwE [usa]_[all_factors]_[monthly]_[vw_cap].csv\n",
      "Processing file 1ocqRe1ewfPqMZA0AWs9Dd9vm5fpOQspM [usa]_[all_factors]_[monthly]_[vw].csv\n",
      "Processing file 14dY6egXjG_sPaMPdwpBXwYZlHqRzoWCC [usa]_[all_themes]_[monthly]_[ew].csv\n",
      "Processing file 1ef9bbYxgJTfxIvN4Z2rntqJa_NnmiNdU [usa]_[all_themes]_[monthly]_[vw_cap].csv\n",
      "Processing file 1Ox56wDFe44C-hyvfWsGwvXGwK6P7WkfN [usa]_[all_themes]_[monthly]_[vw].csv\n",
      "Processing file 1fNUzmalW3T52zcODIxJDDX7hazJb7LUA [usa]_[mkt]_[monthly]_[ew].csv\n",
      "Processing file 19ySVbo4TpgGh26gEwWGmqHTlqjozJ2eY [usa]_[mkt]_[monthly]_[vw_cap].csv\n",
      "Processing file 1ifSElr_u_XKirvWWAlJVN7UyLU5sthwu [usa]_[mkt]_[monthly]_[vw].csv\n"
     ]
    },
    {
     "name": "stderr",
     "output_type": "stream",
     "text": [
      "Retrieving folder contents completed\n",
      "Building directory structure\n",
      "Building directory structure completed\n",
      "Downloading...\n",
      "From: https://drive.google.com/uc?id=1t4oWsO3_h6x7IYERGVKTpaXqQUqUdb2N\n",
      "To: c:\\Users\\User\\.vscode\\KAIST-BAF634-2025\\data\\factors\\[kor]_[all_factors]_[monthly]_[ew].csv\n",
      "100%|██████████| 3.46M/3.46M [00:00<00:00, 6.14MB/s]\n",
      "Downloading...\n",
      "From: https://drive.google.com/uc?id=1WCa8kgR1FSrCwRjM-yZLX7lpAdvtt7Yf\n",
      "To: c:\\Users\\User\\.vscode\\KAIST-BAF634-2025\\data\\factors\\[kor]_[all_factors]_[monthly]_[vw_cap].csv\n",
      "100%|██████████| 3.66M/3.66M [00:00<00:00, 5.79MB/s]\n",
      "Downloading...\n",
      "From: https://drive.google.com/uc?id=1cRXRR-kyOPTcfaQ8HSp1UoJTbUHpQqcz\n",
      "To: c:\\Users\\User\\.vscode\\KAIST-BAF634-2025\\data\\factors\\[kor]_[all_factors]_[monthly]_[vw].csv\n",
      "100%|██████████| 3.45M/3.45M [00:00<00:00, 4.24MB/s]\n",
      "Downloading...\n",
      "From: https://drive.google.com/uc?id=15DCXnY6iPvYubYD0g60FdcNBiujgHGfa\n",
      "To: c:\\Users\\User\\.vscode\\KAIST-BAF634-2025\\data\\factors\\[kor]_[all_themes]_[monthly]_[ew].csv\n",
      "100%|██████████| 318k/318k [00:00<00:00, 1.53MB/s]\n",
      "Downloading...\n",
      "From: https://drive.google.com/uc?id=1qfxiZdGI_Id1cAFfgJwK9FdLXhVOkaE0\n",
      "To: c:\\Users\\User\\.vscode\\KAIST-BAF634-2025\\data\\factors\\[kor]_[all_themes]_[monthly]_[vw_cap].csv\n",
      "100%|██████████| 339k/339k [00:00<00:00, 1.20MB/s]\n",
      "Downloading...\n",
      "From: https://drive.google.com/uc?id=1Locmf_vNfzGF7Dno-knW0fzyStLgDOY4\n",
      "To: c:\\Users\\User\\.vscode\\KAIST-BAF634-2025\\data\\factors\\[kor]_[all_themes]_[monthly]_[vw].csv\n",
      "100%|██████████| 317k/317k [00:00<00:00, 1.22MB/s]\n",
      "Downloading...\n",
      "From: https://drive.google.com/uc?id=1Dk0bP6PvWDnidNhZMj8yNj1EgWZqXI7B\n",
      "To: c:\\Users\\User\\.vscode\\KAIST-BAF634-2025\\data\\factors\\[kor]_[mkt]_[monthly]_[ew].csv\n",
      "100%|██████████| 24.4k/24.4k [00:00<00:00, 478kB/s]\n",
      "Downloading...\n",
      "From: https://drive.google.com/uc?id=1tZQnVw1cmIN6KzhhvECmH3jSGWvShoSS\n",
      "To: c:\\Users\\User\\.vscode\\KAIST-BAF634-2025\\data\\factors\\[kor]_[mkt]_[monthly]_[vw_cap].csv\n",
      "100%|██████████| 26.2k/26.2k [00:00<00:00, 510kB/s]\n",
      "Downloading...\n",
      "From: https://drive.google.com/uc?id=1zWqRa3n-OwH6x8tHQMmOYQoLWJyQKEyP\n",
      "To: c:\\Users\\User\\.vscode\\KAIST-BAF634-2025\\data\\factors\\[kor]_[mkt]_[monthly]_[vw].csv\n",
      "100%|██████████| 24.4k/24.4k [00:00<00:00, 621kB/s]\n",
      "Downloading...\n",
      "From: https://drive.google.com/uc?id=13h6k-NqXMCETEbbEGmXNqu34aWv3-Z4M\n",
      "To: c:\\Users\\User\\.vscode\\KAIST-BAF634-2025\\data\\factors\\[usa]_[all_factors]_[monthly]_[ew].csv\n",
      "100%|██████████| 9.80M/9.80M [00:01<00:00, 8.68MB/s]\n",
      "Downloading...\n",
      "From: https://drive.google.com/uc?id=15RgjKsi-qswHvAj90fin-H2Ox4HJLIwE\n",
      "To: c:\\Users\\User\\.vscode\\KAIST-BAF634-2025\\data\\factors\\[usa]_[all_factors]_[monthly]_[vw_cap].csv\n",
      "100%|██████████| 10.4M/10.4M [00:01<00:00, 7.69MB/s]\n",
      "Downloading...\n",
      "From: https://drive.google.com/uc?id=1ocqRe1ewfPqMZA0AWs9Dd9vm5fpOQspM\n",
      "To: c:\\Users\\User\\.vscode\\KAIST-BAF634-2025\\data\\factors\\[usa]_[all_factors]_[monthly]_[vw].csv\n",
      "100%|██████████| 9.80M/9.80M [00:01<00:00, 8.62MB/s]\n",
      "Downloading...\n",
      "From: https://drive.google.com/uc?id=14dY6egXjG_sPaMPdwpBXwYZlHqRzoWCC\n",
      "To: c:\\Users\\User\\.vscode\\KAIST-BAF634-2025\\data\\factors\\[usa]_[all_themes]_[monthly]_[ew].csv\n",
      "100%|██████████| 879k/879k [00:00<00:00, 2.66MB/s]\n",
      "Downloading...\n",
      "From: https://drive.google.com/uc?id=1ef9bbYxgJTfxIvN4Z2rntqJa_NnmiNdU\n",
      "To: c:\\Users\\User\\.vscode\\KAIST-BAF634-2025\\data\\factors\\[usa]_[all_themes]_[monthly]_[vw_cap].csv\n",
      "100%|██████████| 939k/939k [00:00<00:00, 1.90MB/s]\n",
      "Downloading...\n",
      "From: https://drive.google.com/uc?id=1Ox56wDFe44C-hyvfWsGwvXGwK6P7WkfN\n",
      "To: c:\\Users\\User\\.vscode\\KAIST-BAF634-2025\\data\\factors\\[usa]_[all_themes]_[monthly]_[vw].csv\n",
      "100%|██████████| 879k/879k [00:00<00:00, 2.47MB/s]\n",
      "Downloading...\n",
      "From: https://drive.google.com/uc?id=1fNUzmalW3T52zcODIxJDDX7hazJb7LUA\n",
      "To: c:\\Users\\User\\.vscode\\KAIST-BAF634-2025\\data\\factors\\[usa]_[mkt]_[monthly]_[ew].csv\n",
      "100%|██████████| 63.1k/63.1k [00:00<00:00, 494kB/s]\n",
      "Downloading...\n",
      "From: https://drive.google.com/uc?id=19ySVbo4TpgGh26gEwWGmqHTlqjozJ2eY\n",
      "To: c:\\Users\\User\\.vscode\\KAIST-BAF634-2025\\data\\factors\\[usa]_[mkt]_[monthly]_[vw_cap].csv\n",
      "100%|██████████| 67.9k/67.9k [00:00<00:00, 812kB/s]\n",
      "Downloading...\n",
      "From: https://drive.google.com/uc?id=1ifSElr_u_XKirvWWAlJVN7UyLU5sthwu\n",
      "To: c:\\Users\\User\\.vscode\\KAIST-BAF634-2025\\data\\factors\\[usa]_[mkt]_[monthly]_[vw].csv\n",
      "100%|██████████| 63.1k/63.1k [00:00<00:00, 275kB/s]\n",
      "Download completed\n"
     ]
    },
    {
     "data": {
      "text/plain": [
       "['data/factors\\\\[kor]_[all_factors]_[monthly]_[ew].csv',\n",
       " 'data/factors\\\\[kor]_[all_factors]_[monthly]_[vw_cap].csv',\n",
       " 'data/factors\\\\[kor]_[all_factors]_[monthly]_[vw].csv',\n",
       " 'data/factors\\\\[kor]_[all_themes]_[monthly]_[ew].csv',\n",
       " 'data/factors\\\\[kor]_[all_themes]_[monthly]_[vw_cap].csv',\n",
       " 'data/factors\\\\[kor]_[all_themes]_[monthly]_[vw].csv',\n",
       " 'data/factors\\\\[kor]_[mkt]_[monthly]_[ew].csv',\n",
       " 'data/factors\\\\[kor]_[mkt]_[monthly]_[vw_cap].csv',\n",
       " 'data/factors\\\\[kor]_[mkt]_[monthly]_[vw].csv',\n",
       " 'data/factors\\\\[usa]_[all_factors]_[monthly]_[ew].csv',\n",
       " 'data/factors\\\\[usa]_[all_factors]_[monthly]_[vw_cap].csv',\n",
       " 'data/factors\\\\[usa]_[all_factors]_[monthly]_[vw].csv',\n",
       " 'data/factors\\\\[usa]_[all_themes]_[monthly]_[ew].csv',\n",
       " 'data/factors\\\\[usa]_[all_themes]_[monthly]_[vw_cap].csv',\n",
       " 'data/factors\\\\[usa]_[all_themes]_[monthly]_[vw].csv',\n",
       " 'data/factors\\\\[usa]_[mkt]_[monthly]_[ew].csv',\n",
       " 'data/factors\\\\[usa]_[mkt]_[monthly]_[vw_cap].csv',\n",
       " 'data/factors\\\\[usa]_[mkt]_[monthly]_[vw].csv']"
      ]
     },
     "execution_count": 2,
     "metadata": {},
     "output_type": "execute_result"
    }
   ],
   "source": [
    "#downloading factors data \n",
    "url = \"https://drive.google.com/drive/folders/12MawOyghWvb5-e1Ti2JgOZUiClS48ilD\"\n",
    "gdown.download_folder(url, output=\"data/factors\", quiet=False, use_cookies=False)"
   ]
  },
  {
   "cell_type": "code",
   "execution_count": null,
   "id": "da92faaf",
   "metadata": {},
   "outputs": [],
   "source": []
  }
 ],
 "metadata": {
  "kernelspec": {
   "display_name": "Python 3",
   "language": "python",
   "name": "python3"
  },
  "language_info": {
   "codemirror_mode": {
    "name": "ipython",
    "version": 3
   },
   "file_extension": ".py",
   "mimetype": "text/x-python",
   "name": "python",
   "nbconvert_exporter": "python",
   "pygments_lexer": "ipython3",
   "version": "3.13.7"
  }
 },
 "nbformat": 4,
 "nbformat_minor": 5
}

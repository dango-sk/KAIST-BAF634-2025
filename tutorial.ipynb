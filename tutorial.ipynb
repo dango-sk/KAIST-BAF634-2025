{
 "cells": [
  {
   "cell_type": "markdown",
   "id": "a366ec95",
   "metadata": {},
   "source": [
    "# QDL Tutorial\n",
    "\n",
    "This notebook demonstrates loading factor data, reshaping to wide format, and selecting specific columns via the facade. We'll:\n",
    "- Import modules\n",
    "- Load USA market VW factors and project columns [\"date\",\"name\",\"ret\"]\n",
    "- Preview raw data and wide form\n",
    "- Load characteristics (JKP) with strict column selection [\"permno\",\"me\",\"be_me\"]\n"
   ]
  },
  {
   "cell_type": "code",
   "execution_count": 1,
   "id": "60f6ae57",
   "metadata": {},
   "outputs": [
    {
     "name": "stdout",
     "output_type": "stream",
     "text": [
      "Raw factors head (projected):\n",
      "         date name       ret\n",
      "0  1926-01-31  mkt -0.002409\n",
      "1  1926-02-28  mkt -0.035821\n",
      "2  1926-03-31  mkt -0.066672\n",
      "3  1926-04-30  mkt  0.033847\n",
      "4  1926-05-31  mkt  0.011772\n"
     ]
    }
   ],
   "source": [
    "from qdl import dataloader, transformer\n",
    "\n",
    "# Load USA market (vw) factors and project required columns for the wide pivot\n",
    "df = dataloader.load_factors(country=\"usa\", dataset=\"mkt\", weighting=\"vw\")[\n",
    "    [\"date\", \"name\", \"ret\"]\n",
    "]\n",
    "print(\"Raw factors head (projected):\")\n",
    "print(df.head(5))\n"
   ]
  },
  {
   "cell_type": "code",
   "execution_count": 2,
   "id": "f7aa1971",
   "metadata": {},
   "outputs": [
    {
     "name": "stdout",
     "output_type": "stream",
     "text": [
      "\n",
      "Wide factors head:\n",
      "                 mkt\n",
      "date                \n",
      "1926-01-31 -0.002409\n",
      "1926-02-28 -0.035821\n",
      "1926-03-31 -0.066672\n",
      "1926-04-30  0.033847\n",
      "1926-05-31  0.011772\n"
     ]
    }
   ],
   "source": [
    "# Pivot to wide format (date index, factor names as columns)\n",
    "wide = transformer.to_wide_factors(df)\n",
    "print(\"\\nWide factors head:\")\n",
    "print(wide.head(5))\n"
   ]
  },
  {
   "cell_type": "code",
   "execution_count": 3,
   "id": "03c3aab3",
   "metadata": {},
   "outputs": [
    {
     "name": "stdout",
     "output_type": "stream",
     "text": [
      "\n",
      "Facade wide factors head:\n",
      "                 mkt\n",
      "date                \n",
      "1926-01-31 -0.002409\n",
      "1926-02-28 -0.035821\n",
      "1926-03-31 -0.066672\n",
      "1926-04-30  0.033847\n",
      "1926-05-31  0.011772\n"
     ]
    }
   ],
   "source": [
    "# Using the Facade interface with column selection\n",
    "from qdl.facade import QDL\n",
    "\n",
    "q = QDL()\n",
    "df2 = q.load_factors(\n",
    "    country=\"usa\",\n",
    "    dataset=\"mkt\",\n",
    "    weighting=\"vw\",\n",
    "    columns=[\"date\", \"name\", \"ret\"],\n",
    ")\n",
    "wide2 = transformer.to_wide_factors(df2)\n",
    "print(\"\\nFacade wide factors head:\")\n",
    "print(wide2.head(5))\n"
   ]
  },
  {
   "cell_type": "code",
   "execution_count": 4,
   "id": "9f215c90",
   "metadata": {},
   "outputs": [
    {
     "name": "stdout",
     "output_type": "stream",
     "text": [
      "\n",
      "Chars head (strict columns):\n",
      "    permno          me  be_me\n",
      "0  20964.0  371.249986    NaN\n",
      "1  20964.0  338.100007    NaN\n",
      "2  20964.0  336.375000    NaN\n",
      "3  20964.0  337.409991    NaN\n",
      "4  20964.0  336.375000    NaN\n"
     ]
    }
   ],
   "source": [
    "# Load characteristics (JKP) with strict column selection\n",
    "from qdl.facade import QDL\n",
    "\n",
    "q = QDL()\n",
    "chars = q.load_chars(\n",
    "    country=\"usa\",\n",
    "    vintage=\"2020-\",\n",
    "    columns=[\"permno\", \"me\", \"be_me\"],\n",
    ")\n",
    "print(\"\\nChars head (strict columns):\")\n",
    "print(chars.head(5))\n",
    "\n",
    "# Pivot chars to wide using `date` as index and `id` as columns\n",
    "from qdl.transformer import to_wide_chars\n",
    "chars_wide = to_wide_chars(chars, value_col=\"me\")\n",
    "print(\"\\nWide chars head (value: me):\")\n",
    "print(chars_wide.head(5))\n"
   ]
  },
  {
   "cell_type": "code",
   "execution_count": null,
   "id": "2784def6",
   "metadata": {},
   "outputs": [],
   "source": []
  },
  {
   "cell_type": "code",
   "execution_count": null,
   "id": "ce04ef0b",
   "metadata": {},
   "outputs": [],
   "source": []
  }
 ],
 "metadata": {
  "kernelspec": {
   "display_name": "sandbox312",
   "language": "python",
   "name": "python3"
  },
  "language_info": {
   "codemirror_mode": {
    "name": "ipython",
    "version": 3
   },
   "file_extension": ".py",
   "mimetype": "text/x-python",
   "name": "python",
   "nbconvert_exporter": "python",
   "pygments_lexer": "ipython3",
   "version": "3.12.9"
  }
 },
 "nbformat": 4,
 "nbformat_minor": 5
}

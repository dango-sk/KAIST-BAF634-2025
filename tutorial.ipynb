{
 "cells": [
  {
   "cell_type": "markdown",
   "id": "a366ec95",
   "metadata": {},
   "source": [
    "# QDL Tutorial\n",
    "\n",
    "This notebook demonstrates loading factor data and reshaping to wide format using the qdl package. We'll:\n",
    "- Import modules\n",
    "- Load USA market VW factors\n",
    "- Preview raw data\n",
    "- Convert to wide format (date index, factor names as columns)\n"
   ]
  },
  {
   "cell_type": "code",
   "execution_count": 2,
   "id": "60f6ae57",
   "metadata": {},
   "outputs": [
    {
     "name": "stdout",
     "output_type": "stream",
     "text": [
      "Raw factors head:\n",
      "  location name     freq weighting direction  n_stocks n_stocks_min  \\\n",
      "0      usa  mkt  monthly        vw        na       489           na   \n",
      "1      usa  mkt  monthly        vw        na       494           na   \n",
      "2      usa  mkt  monthly        vw        na       500           na   \n",
      "3      usa  mkt  monthly        vw        na       505           na   \n",
      "4      usa  mkt  monthly        vw        na       507           na   \n",
      "\n",
      "         date       ret  \n",
      "0  1926-01-31 -0.002409  \n",
      "1  1926-02-28 -0.035821  \n",
      "2  1926-03-31 -0.066672  \n",
      "3  1926-04-30  0.033847  \n",
      "4  1926-05-31  0.011772  \n"
     ]
    }
   ],
   "source": [
    "from qdl import dataloader, transformer\n",
    "\n",
    "# Load USA market (vw) factors\n",
    "df = dataloader.load_factors(country=\"usa\", dataset=\"mkt\", weighting=\"vw\")\n",
    "print(\"Raw factors head:\")\n",
    "print(df.head(5))\n"
   ]
  },
  {
   "cell_type": "code",
   "execution_count": 3,
   "id": "f7aa1971",
   "metadata": {},
   "outputs": [
    {
     "name": "stdout",
     "output_type": "stream",
     "text": [
      "\n",
      "Wide factors head:\n",
      "                 mkt\n",
      "date                \n",
      "1926-01-31 -0.002409\n",
      "1926-02-28 -0.035821\n",
      "1926-03-31 -0.066672\n",
      "1926-04-30  0.033847\n",
      "1926-05-31  0.011772\n"
     ]
    }
   ],
   "source": [
    "# Pivot to wide format (date index, factor names as columns)\n",
    "wide = transformer.to_wide_factors(df)\n",
    "print(\"\\nWide factors head:\")\n",
    "print(wide.head(5))\n"
   ]
  },
  {
   "cell_type": "code",
   "execution_count": 4,
   "id": "03c3aab3",
   "metadata": {},
   "outputs": [
    {
     "name": "stdout",
     "output_type": "stream",
     "text": [
      "\n",
      "Facade load head:\n",
      "  location name     freq weighting direction  n_stocks n_stocks_min  \\\n",
      "0      usa  mkt  monthly        vw        na       489           na   \n",
      "1      usa  mkt  monthly        vw        na       494           na   \n",
      "2      usa  mkt  monthly        vw        na       500           na   \n",
      "\n",
      "         date       ret  \n",
      "0  1926-01-31 -0.002409  \n",
      "1  1926-02-28 -0.035821  \n",
      "2  1926-03-31 -0.066672  \n"
     ]
    }
   ],
   "source": [
    "# Optional: Using the Facade interface (requires validator implementation later for validation examples)\n",
    "from qdl.facade import QDL\n",
    "\n",
    "q = QDL()\n",
    "ref = q.load(\"factors\", country=\"usa\", dataset=\"mkt\", weighting=\"vw\")\n",
    "print(\"\\nFacade load head:\")\n",
    "print(ref.head(3))\n"
   ]
  },
  {
   "cell_type": "code",
   "execution_count": null,
   "id": "2784def6",
   "metadata": {},
   "outputs": [],
   "source": []
  },
  {
   "cell_type": "code",
   "execution_count": null,
   "id": "ce04ef0b",
   "metadata": {},
   "outputs": [],
   "source": []
  }
 ],
 "metadata": {
  "kernelspec": {
   "display_name": "sandbox312",
   "language": "python",
   "name": "python3"
  },
  "language_info": {
   "codemirror_mode": {
    "name": "ipython",
    "version": 3
   },
   "file_extension": ".py",
   "mimetype": "text/x-python",
   "name": "python",
   "nbconvert_exporter": "python",
   "pygments_lexer": "ipython3",
   "version": "3.12.9"
  }
 },
 "nbformat": 4,
 "nbformat_minor": 5
}

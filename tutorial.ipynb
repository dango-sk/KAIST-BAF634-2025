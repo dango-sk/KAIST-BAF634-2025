{
 "cells": [
  {
   "cell_type": "markdown",
   "id": "a366ec95",
   "metadata": {},
   "source": [
    "# QDL Tutorial\n",
    "\n",
    "This notebook demonstrates loading factor data, reshaping to wide format, and selecting specific columns via the facade. We'll:\n",
    "- Import modules\n",
    "- Load USA VW factors (dataset=\"factor\") and project columns [\"date\",\"name\",\"ret\"]\n",
    "- Preview raw data and wide form\n",
    "- Load characteristics (JKP) with strict column selection [\"permno\",\"me\",\"be_me\"]\n"
   ]
  },
  {
   "cell_type": "code",
   "execution_count": 1,
   "id": "60f6ae57",
   "metadata": {},
   "outputs": [
    {
     "name": "stdout",
     "output_type": "stream",
     "text": [
      "Raw factors head (projected):\n",
      "        date name       ret\n",
      "0 1926-03-31  age -0.098837\n",
      "1 1926-04-30  age -0.006303\n",
      "2 1926-05-31  age -0.000190\n",
      "3 1926-06-30  age -0.008323\n",
      "4 1926-07-31  age -0.004220\n"
     ]
    }
   ],
   "source": [
    "from qdl import dataloader, transformer\n",
    "\n",
    "# Load USA (vw) factors from the long-form factor dataset and project required columns\n",
    "df = dataloader.load_factors(country=\"usa\", dataset=\"factor\", weighting=\"vw\")[\n",
    "    [\"date\", \"name\", \"ret\"]\n",
    "]\n",
    "print(\"Raw factors head (projected):\")\n",
    "print(df.head(5))\n"
   ]
  },
  {
   "cell_type": "code",
   "execution_count": 2,
   "id": "f7aa1971",
   "metadata": {},
   "outputs": [
    {
     "name": "stdout",
     "output_type": "stream",
     "text": [
      "\n",
      "Wide factors head:\n",
      "                 age  aliq_at  aliq_mat  ami_126d  at_be  at_gr1  at_me  \\\n",
      "date                                                                      \n",
      "1926-01-31       NaN      NaN       NaN       NaN    NaN     NaN    NaN   \n",
      "1926-02-28       NaN      NaN       NaN       NaN    NaN     NaN    NaN   \n",
      "1926-03-31 -0.098837      NaN       NaN       NaN    NaN     NaN    NaN   \n",
      "1926-04-30 -0.006303      NaN       NaN -0.003724    NaN     NaN    NaN   \n",
      "1926-05-31 -0.000190      NaN       NaN -0.005195    NaN     NaN    NaN   \n",
      "\n",
      "            at_turnover  be_gr1a  be_me  ...  taccruals_at  taccruals_ni  \\\n",
      "date                                     ...                               \n",
      "1926-01-31          NaN      NaN    NaN  ...           NaN           NaN   \n",
      "1926-02-28          NaN      NaN    NaN  ...           NaN           NaN   \n",
      "1926-03-31          NaN      NaN    NaN  ...           NaN           NaN   \n",
      "1926-04-30          NaN      NaN    NaN  ...           NaN           NaN   \n",
      "1926-05-31          NaN      NaN    NaN  ...           NaN           NaN   \n",
      "\n",
      "            tangibility  tax_gr1a  turnover_126d  turnover_var_126d  z_score  \\\n",
      "date                                                                           \n",
      "1926-01-31          NaN       NaN            NaN                NaN      NaN   \n",
      "1926-02-28          NaN       NaN            NaN                NaN      NaN   \n",
      "1926-03-31          NaN       NaN            NaN                NaN      NaN   \n",
      "1926-04-30          NaN       NaN      -0.009026           0.010274      NaN   \n",
      "1926-05-31          NaN       NaN       0.010668           0.005511      NaN   \n",
      "\n",
      "            zero_trades_126d  zero_trades_21d  zero_trades_252d  \n",
      "date                                                             \n",
      "1926-01-31               NaN              NaN               NaN  \n",
      "1926-02-28               NaN         0.006690               NaN  \n",
      "1926-03-31               NaN         0.013424               NaN  \n",
      "1926-04-30         -0.006933        -0.004975               NaN  \n",
      "1926-05-31         -0.003693        -0.001582               NaN  \n",
      "\n",
      "[5 rows x 153 columns]\n"
     ]
    }
   ],
   "source": [
    "# Pivot to wide format (date index, factor names as columns)\n",
    "wide = transformer.to_wide_factors(df)\n",
    "print(\"\\nWide factors head:\")\n",
    "print(wide.head(5))\n"
   ]
  },
  {
   "cell_type": "code",
   "execution_count": 3,
   "id": "03c3aab3",
   "metadata": {},
   "outputs": [
    {
     "name": "stdout",
     "output_type": "stream",
     "text": [
      "\n",
      "Facade wide factors head:\n",
      "                 age  aliq_at  aliq_mat  ami_126d  at_be  at_gr1  at_me  \\\n",
      "date                                                                      \n",
      "1926-01-31       NaN      NaN       NaN       NaN    NaN     NaN    NaN   \n",
      "1926-02-28       NaN      NaN       NaN       NaN    NaN     NaN    NaN   \n",
      "1926-03-31 -0.098837      NaN       NaN       NaN    NaN     NaN    NaN   \n",
      "1926-04-30 -0.006303      NaN       NaN -0.003724    NaN     NaN    NaN   \n",
      "1926-05-31 -0.000190      NaN       NaN -0.005195    NaN     NaN    NaN   \n",
      "\n",
      "            at_turnover  be_gr1a  be_me  ...  taccruals_at  taccruals_ni  \\\n",
      "date                                     ...                               \n",
      "1926-01-31          NaN      NaN    NaN  ...           NaN           NaN   \n",
      "1926-02-28          NaN      NaN    NaN  ...           NaN           NaN   \n",
      "1926-03-31          NaN      NaN    NaN  ...           NaN           NaN   \n",
      "1926-04-30          NaN      NaN    NaN  ...           NaN           NaN   \n",
      "1926-05-31          NaN      NaN    NaN  ...           NaN           NaN   \n",
      "\n",
      "            tangibility  tax_gr1a  turnover_126d  turnover_var_126d  z_score  \\\n",
      "date                                                                           \n",
      "1926-01-31          NaN       NaN            NaN                NaN      NaN   \n",
      "1926-02-28          NaN       NaN            NaN                NaN      NaN   \n",
      "1926-03-31          NaN       NaN            NaN                NaN      NaN   \n",
      "1926-04-30          NaN       NaN      -0.009026           0.010274      NaN   \n",
      "1926-05-31          NaN       NaN       0.010668           0.005511      NaN   \n",
      "\n",
      "            zero_trades_126d  zero_trades_21d  zero_trades_252d  \n",
      "date                                                             \n",
      "1926-01-31               NaN              NaN               NaN  \n",
      "1926-02-28               NaN         0.006690               NaN  \n",
      "1926-03-31               NaN         0.013424               NaN  \n",
      "1926-04-30         -0.006933        -0.004975               NaN  \n",
      "1926-05-31         -0.003693        -0.001582               NaN  \n",
      "\n",
      "[5 rows x 153 columns]\n"
     ]
    }
   ],
   "source": [
    "# Using the Facade interface with column selection\n",
    "from qdl.facade import QDL\n",
    "\n",
    "q = QDL()\n",
    "df2 = q.load_factors(\n",
    "    country=\"usa\",\n",
    "    dataset=\"factor\",\n",
    "    weighting=\"vw\",\n",
    "    columns=[\"date\", \"name\", \"ret\"],\n",
    ")\n",
    "wide2 = transformer.to_wide_factors(df2)\n",
    "print(\"\\nFacade wide factors head:\")\n",
    "print(wide2.head(5))\n"
   ]
  },
  {
   "cell_type": "code",
   "execution_count": 4,
   "id": "a8ee6d57",
   "metadata": {},
   "outputs": [
    {
     "name": "stdout",
     "output_type": "stream",
     "text": [
      "\n",
      "Validation (index inner-join) period: 1927-01-31 00:00:00 to 2024-06-30 00:00:00\n",
      "Aligned length: 1170\n",
      "Columns equal (set): True\n"
     ]
    }
   ],
   "source": [
    "# Simple validation: align by index and compare column sets (like test_qdl.py)\n",
    "# Simulate differing periods between user and reference series\n",
    "user_wide = wide2.iloc[12:].copy()\n",
    "ref_wide = wide2.iloc[:-6].copy()\n",
    "\n",
    "common_idx = user_wide.index.intersection(ref_wide.index)\n",
    "user_aligned = user_wide.loc[common_idx, :]\n",
    "ref_aligned = ref_wide.loc[common_idx, :]\n",
    "\n",
    "print(\"\\nValidation (index inner-join) period:\", common_idx.min(), \"to\", common_idx.max())\n",
    "print(\"Aligned length:\", len(common_idx))\n",
    "print(\"Columns equal (set):\", set(user_aligned.columns) == set(ref_aligned.columns))\n",
    "\n"
   ]
  },
  {
   "cell_type": "code",
   "execution_count": 5,
   "id": "9f215c90",
   "metadata": {},
   "outputs": [
    {
     "name": "stdout",
     "output_type": "stream",
     "text": [
      "\n",
      "Chars head (strict columns):\n",
      "    permno          me  be_me       date       id\n",
      "0  20964.0  371.249986    NaN 2021-04-30  20964.0\n",
      "1  20964.0  338.100007    NaN 2021-05-28  20964.0\n",
      "2  20964.0  336.375000    NaN 2021-06-30  20964.0\n",
      "3  20964.0  337.409991    NaN 2021-07-30  20964.0\n",
      "4  20964.0  336.375000    NaN 2021-08-31  20964.0\n"
     ]
    }
   ],
   "source": [
    "# Load characteristics (JKP) with strict column selection\n",
    "from qdl.facade import QDL\n",
    "\n",
    "q = QDL()\n",
    "chars = q.load_chars(\n",
    "    country=\"usa\",\n",
    "    vintage=\"2020-\",\n",
    "    columns=[\"permno\", \"me\", \"be_me\"],\n",
    ")\n",
    "print(\"\\nChars head (strict columns):\")\n",
    "print(chars.head(5))\n"
   ]
  },
  {
   "cell_type": "code",
   "execution_count": null,
   "id": "2784def6",
   "metadata": {},
   "outputs": [],
   "source": []
  },
  {
   "cell_type": "code",
   "execution_count": null,
   "id": "ce04ef0b",
   "metadata": {},
   "outputs": [],
   "source": []
  }
 ],
 "metadata": {
  "kernelspec": {
   "display_name": "sandbox312",
   "language": "python",
   "name": "python3"
  },
  "language_info": {
   "codemirror_mode": {
    "name": "ipython",
    "version": 3
   },
   "file_extension": ".py",
   "mimetype": "text/x-python",
   "name": "python",
   "nbconvert_exporter": "python",
   "pygments_lexer": "ipython3",
   "version": "3.12.9"
  }
 },
 "nbformat": 4,
 "nbformat_minor": 5
}
